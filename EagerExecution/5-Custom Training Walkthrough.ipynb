{
 "cells": [
  {
   "cell_type": "code",
   "execution_count": 1,
   "metadata": {},
   "outputs": [],
   "source": [
    "# https://www.tensorflow.org/tutorials/eager/custom_training_walkthrough"
   ]
  },
  {
   "cell_type": "code",
   "execution_count": 2,
   "metadata": {},
   "outputs": [
    {
     "name": "stdout",
     "output_type": "stream",
     "text": [
      "TensorFlow version: 1.9.0\n",
      "Eager execution: True\n"
     ]
    }
   ],
   "source": [
    "# 1. Import and parse the data sets.\n",
    "# 2. Select the type of model.\n",
    "# 3. Train the model.\n",
    "# 4. Evaluate the model's effectiveness.\n",
    "# 5. Use the trained model to make predictions.\n",
    "\n",
    "# Once eager execution is enabled, it cannot be disabled within the same program.\n",
    "from __future__ import absolute_import, division, print_function\n",
    "\n",
    "import os\n",
    "import matplotlib.pyplot as plt\n",
    "\n",
    "import tensorflow as tf\n",
    "import tensorflow.contrib.eager as tfe\n",
    "\n",
    "tf.enable_eager_execution()\n",
    "\n",
    "print(\"TensorFlow version: {}\".format(tf.VERSION))\n",
    "print(\"Eager execution: {}\".format(tf.executing_eagerly()))"
   ]
  },
  {
   "cell_type": "code",
   "execution_count": 3,
   "metadata": {},
   "outputs": [
    {
     "name": "stdout",
     "output_type": "stream",
     "text": [
      "Downloading data from http://download.tensorflow.org/data/iris_training.csv\n",
      "8192/2194 [================================================================================================================] - 0s 0us/step\n",
      "Local copy of the dataset file: C:\\Users\\Stephen\\.keras\\datasets\\iris_training.csv\n"
     ]
    }
   ],
   "source": [
    "# Get the Iris dataset.\n",
    "train_dataset_url = \"http://download.tensorflow.org/data/iris_training.csv\"\n",
    "\n",
    "train_dataset_fp = tf.keras.utils.get_file(fname=os.path.basename(train_dataset_url),\n",
    "                                           origin=train_dataset_url)\n",
    "\n",
    "print(\"Local copy of the dataset file: {}\".format(train_dataset_fp))"
   ]
  },
  {
   "cell_type": "code",
   "execution_count": 5,
   "metadata": {},
   "outputs": [
    {
     "name": "stderr",
     "output_type": "stream",
     "text": [
      "'head' is not recognized as an internal or external command,\n",
      "operable program or batch file.\n"
     ]
    }
   ],
   "source": [
    "# This will work in Linux\n",
    "!head -n5 {train_dataset_fp}\n",
    "\n",
    "# Output should be:\n",
    "# 120,4,setosa,versicolor,virginica\n",
    "# 6.4,2.8,5.6,2.2,2\n",
    "# 5.0,2.3,3.3,1.0,1\n",
    "# 4.9,2.5,4.5,1.7,2\n",
    "# 4.9,3.1,1.5,0.1,0"
   ]
  },
  {
   "cell_type": "code",
   "execution_count": 6,
   "metadata": {},
   "outputs": [
    {
     "name": "stdout",
     "output_type": "stream",
     "text": [
      "Features: ['sepal_length', 'sepal_width', 'petal_length', 'petal_width']\n",
      "Label: species\n"
     ]
    }
   ],
   "source": [
    "# column order in CSV file\n",
    "column_names = ['sepal_length', 'sepal_width', 'petal_length', 'petal_width', 'species']\n",
    "\n",
    "feature_names = column_names[:-1]\n",
    "label_name = column_names[-1]\n",
    "\n",
    "print(\"Features: {}\".format(feature_names))\n",
    "print(\"Label: {}\".format(label_name))"
   ]
  },
  {
   "cell_type": "code",
   "execution_count": 7,
   "metadata": {},
   "outputs": [],
   "source": [
    "# Create labels\n",
    "# 0: Iris setosa\n",
    "# 1: Iris versicolor\n",
    "# 2: Iris virginica\n",
    "\n",
    "class_names = ['Iris setosa', 'Iris versicolor', 'Iris virginica']"
   ]
  },
  {
   "cell_type": "code",
   "execution_count": 8,
   "metadata": {},
   "outputs": [],
   "source": [
    "# Use make_csvdataset to parse the data into suitable format.\n",
    "# Returns a tf.data.Dataset of (features, label) pairs, where\n",
    "# features is a dictionary: {'feature_name': value}\n",
    "\n",
    "# Default behavior is to shuffle the dataset and repeat the dataset forever.\n",
    "# (shuffle=True, shuffle_buffer_size=10000, num_epochs=None)\n",
    "batch_size = 32\n",
    "\n",
    "train_dataset = tf.contrib.data.make_csv_dataset(\n",
    "    train_dataset_fp,\n",
    "    batch_size, \n",
    "    column_names=column_names,\n",
    "    label_name=label_name,\n",
    "    num_epochs=1)"
   ]
  },
  {
   "cell_type": "code",
   "execution_count": 9,
   "metadata": {},
   "outputs": [
    {
     "data": {
      "text/plain": [
       "OrderedDict([('sepal_length',\n",
       "              <tf.Tensor: id=44, shape=(32,), dtype=float32, numpy=\n",
       "              array([5.1, 4.4, 5.6, 4.9, 5.1, 5.4, 5.8, 6.1, 5.1, 5.1, 7.2, 5.9, 6.5,\n",
       "                     6.4, 5.8, 7.2, 4.7, 6.9, 6.4, 5.8, 5.7, 4.4, 4.8, 6.4, 6.3, 6.7,\n",
       "                     4.9, 6.6, 6.4, 6.3, 6.9, 5.8], dtype=float32)>),\n",
       "             ('sepal_width',\n",
       "              <tf.Tensor: id=45, shape=(32,), dtype=float32, numpy=\n",
       "              array([3.5, 3. , 2.9, 2.5, 3.8, 3. , 2.7, 2.8, 3.8, 3.7, 3.6, 3. , 3.2,\n",
       "                     3.2, 2.8, 3.2, 3.2, 3.1, 2.7, 4. , 2.9, 3.2, 3. , 2.8, 2.5, 3.1,\n",
       "                     2.4, 2.9, 3.2, 3.3, 3.1, 2.6], dtype=float32)>),\n",
       "             ('petal_length',\n",
       "              <tf.Tensor: id=42, shape=(32,), dtype=float32, numpy=\n",
       "              array([1.4, 1.3, 3.6, 4.5, 1.9, 4.5, 5.1, 4. , 1.6, 1.5, 6.1, 5.1, 5.1,\n",
       "                     4.5, 5.1, 6. , 1.3, 5.1, 5.3, 1.2, 4.2, 1.3, 1.4, 5.6, 5. , 5.6,\n",
       "                     3.3, 4.6, 5.3, 4.7, 4.9, 4. ], dtype=float32)>),\n",
       "             ('petal_width',\n",
       "              <tf.Tensor: id=43, shape=(32,), dtype=float32, numpy=\n",
       "              array([0.3, 0.2, 1.3, 1.7, 0.4, 1.5, 1.9, 1.3, 0.2, 0.4, 2.5, 1.8, 2. ,\n",
       "                     1.5, 2.4, 1.8, 0.2, 2.3, 1.9, 0.2, 1.3, 0.2, 0.3, 2.2, 1.9, 2.4,\n",
       "                     1. , 1.3, 2.3, 1.6, 1.5, 1.2], dtype=float32)>)])"
      ]
     },
     "execution_count": 9,
     "metadata": {},
     "output_type": "execute_result"
    }
   ],
   "source": [
    "features, labels = next(iter(train_dataset))\n",
    "\n",
    "features"
   ]
  },
  {
   "cell_type": "code",
   "execution_count": 10,
   "metadata": {
    "scrolled": true
   },
   "outputs": [
    {
     "data": {
      "image/png": "[encoded data removed]",
      "text/plain": [
       "<Figure size 432x288 with 1 Axes>"
      ]
     },
     "metadata": {},
     "output_type": "display_data"
    }
   ],
   "source": [
    "# Like-features are grouped together (or batched).\n",
    "# Each row's fields are appended to the corresponding feature array.\n",
    "\n",
    "# We can start to see some clusters by plotting a few features from the batch.\n",
    "plt.scatter(features['petal_length'],\n",
    "            features['sepal_length'],\n",
    "            c=labels,\n",
    "            cmap='viridis')\n",
    "\n",
    "plt.xlabel(\"Petal length\")\n",
    "plt.ylabel(\"Sepal length\");\n"
   ]
  },
  {
   "cell_type": "code",
   "execution_count": 11,
   "metadata": {},
   "outputs": [],
   "source": [
    "# To simplify model building, create a function to repackage the\n",
    "# features dictionary into a single array with shape: \n",
    "# (batch_size, num_features).\n",
    "\n",
    "# tf.stack is used to take values from a list of tensors and creates\n",
    "# a combined tensor at the specified dimension.\n",
    "def pack_features_vector(features, labels):\n",
    "  \"\"\"Pack the features into a single array.\"\"\"\n",
    "  features = tf.stack(list(features.values()), axis=1)\n",
    "  return features, labels\n"
   ]
  },
  {
   "cell_type": "code",
   "execution_count": 12,
   "metadata": {},
   "outputs": [],
   "source": [
    "# Use tf.data.Dataset.map method to pack the features of each\n",
    "# (features,label) pair into the training dataset\n",
    "train_dataset = train_dataset.map(pack_features_vector)\n"
   ]
  },
  {
   "cell_type": "code",
   "execution_count": 13,
   "metadata": {},
   "outputs": [
    {
     "name": "stdout",
     "output_type": "stream",
     "text": [
      "tf.Tensor(\n",
      "[[7.9 3.8 6.4 2. ]\n",
      " [6.2 2.8 4.8 1.8]\n",
      " [4.5 2.3 1.3 0.3]\n",
      " [4.6 3.4 1.4 0.3]\n",
      " [5.4 3.9 1.7 0.4]], shape=(5, 4), dtype=float32)\n"
     ]
    }
   ],
   "source": [
    "# look at a few examples.\n",
    "features, labels = next(iter(train_dataset))\n",
    "\n",
    "print(features[:5])\n"
   ]
  },
  {
   "cell_type": "code",
   "execution_count": 16,
   "metadata": {},
   "outputs": [],
   "source": [
    "# A Model is a relationship between features and the label.\n",
    "# For Iris classification, the model defines the relatinship\n",
    "# between the sepal and petal measurements and the predicted\n",
    "# Iris species.\n",
    "\n",
    "# Neural Network can find complex relationships between features and the label.\n",
    "\n",
    "# Our model will yield 3 predictions when fed an unlabeled example:\n",
    "# the likelihood that this flower is the given Iris species.\n",
    "# This prediction is called inference.\n",
    "model = tf.keras.Sequential([\n",
    "  tf.keras.layers.Dense(10, activation=tf.nn.relu, input_shape=(4,)),  # input shape required\n",
    "  tf.keras.layers.Dense(10, activation=tf.nn.relu),\n",
    "  tf.keras.layers.Dense(3)\n",
    "])\n"
   ]
  },
  {
   "cell_type": "code",
   "execution_count": 17,
   "metadata": {},
   "outputs": [
    {
     "data": {
      "text/plain": [
       "<tf.Tensor: id=188, shape=(5, 3), dtype=float32, numpy=\n",
       "array([[-2.14238   ,  0.2895515 , -2.1888382 ],\n",
       "       [-1.6131586 ,  0.18088478, -1.6736455 ],\n",
       "       [-0.36958387, -0.118213  , -0.6308155 ],\n",
       "       [-0.40515295, -0.35793796, -0.66567326],\n",
       "       [-0.49739438, -0.39692992, -0.7968979 ]], dtype=float32)>"
      ]
     },
     "execution_count": 17,
     "metadata": {},
     "output_type": "execute_result"
    }
   ],
   "source": [
    "# Use the model\n",
    "predictions = model(features)\n",
    "predictions[:5]\n"
   ]
  },
  {
   "cell_type": "code",
   "execution_count": 18,
   "metadata": {},
   "outputs": [
    {
     "data": {
      "text/plain": [
       "<tf.Tensor: id=194, shape=(5, 3), dtype=float32, numpy=\n",
       "array([[0.07498811, 0.85342795, 0.07158399],\n",
       "       [0.12570672, 0.7559648 , 0.11832849],\n",
       "       [0.32723695, 0.420757  , 0.25200602],\n",
       "       [0.354736  , 0.37188655, 0.27337748],\n",
       "       [0.3512629 , 0.3883859 , 0.26035118]], dtype=float32)>"
      ]
     },
     "execution_count": 18,
     "metadata": {},
     "output_type": "execute_result"
    }
   ],
   "source": [
    "# Currently each example returns a logit for each class.\n",
    "# Logit is a vector of raw (non-normalized) predictions \n",
    "# that a classification model generates.\n",
    "\n",
    "# To get the normalized probabilities with one value for each\n",
    "# possible class, we pass it to the softmax function.\n",
    "tf.nn.softmax(predictions[:5])"
   ]
  },
  {
   "cell_type": "code",
   "execution_count": 19,
   "metadata": {},
   "outputs": [
    {
     "name": "stdout",
     "output_type": "stream",
     "text": [
      "Prediction: [1 1 1 1 1 1 1 1 1 1 1 1 1 0 1 1 1 1 1 1 1 1 1 1 1 1 1 1 1 1 1 1]\n",
      "    Labels: [2 2 0 0 0 2 0 1 1 0 0 0 1 0 1 0 1 1 0 2 1 1 2 0 2 1 0 2 2 2 0 2]\n"
     ]
    }
   ],
   "source": [
    "print(\"Prediction: {}\".format(tf.argmax(predictions, axis=1)))\n",
    "print(\"    Labels: {}\".format(labels))\n"
   ]
  },
  {
   "cell_type": "code",
   "execution_count": 20,
   "metadata": {},
   "outputs": [
    {
     "name": "stdout",
     "output_type": "stream",
     "text": [
      "Loss test: 1.2600326538085938\n"
     ]
    }
   ],
   "source": [
    "# Define the loss and gradient function\n",
    "def loss(model, x, y):\n",
    "  y_ = model(x)\n",
    "  return tf.losses.sparse_softmax_cross_entropy(labels=y, logits=y_)\n",
    "\n",
    "\n",
    "l = loss(model, features, labels)\n",
    "print(\"Loss test: {}\".format(l))"
   ]
  },
  {
   "cell_type": "code",
   "execution_count": 21,
   "metadata": {},
   "outputs": [],
   "source": [
    "def grad(model, inputs, targets):\n",
    "  with tf.GradientTape() as tape:\n",
    "    loss_value = loss(model, inputs, targets)\n",
    "  return loss_value, tape.gradient(loss_value, model.trainable_variables)\n"
   ]
  },
  {
   "cell_type": "code",
   "execution_count": 22,
   "metadata": {},
   "outputs": [],
   "source": [
    "# Create an optimizer.\n",
    "optimizer = tf.train.GradientDescentOptimizer(learning_rate=0.01)\n",
    "\n",
    "global_step = tf.train.get_or_create_global_step()"
   ]
  },
  {
   "cell_type": "code",
   "execution_count": 23,
   "metadata": {},
   "outputs": [
    {
     "name": "stdout",
     "output_type": "stream",
     "text": [
      "Step: 0, Initial Loss: 1.2600326538085938\n",
      "Step: 1,         Loss: 1.1115294694900513\n"
     ]
    }
   ],
   "source": [
    "loss_value, grads = grad(model, features, labels)\n",
    "\n",
    "print(\"Step: {}, Initial Loss: {}\".format(global_step.numpy(),\n",
    "                                          loss_value.numpy()))\n",
    "\n",
    "optimizer.apply_gradients(zip(grads, model.variables), global_step)\n",
    "\n",
    "print(\"Step: {},         Loss: {}\".format(global_step.numpy(),\n",
    "                                          loss(model, features, labels).numpy()))\n"
   ]
  },
  {
   "cell_type": "code",
   "execution_count": 24,
   "metadata": {},
   "outputs": [
    {
     "name": "stdout",
     "output_type": "stream",
     "text": [
      "Epoch 000: Loss: 1.054, Accuracy: 64.167%\n",
      "Epoch 050: Loss: 0.436, Accuracy: 85.833%\n",
      "Epoch 100: Loss: 0.273, Accuracy: 95.000%\n",
      "Epoch 150: Loss: 0.177, Accuracy: 97.500%\n",
      "Epoch 200: Loss: 0.127, Accuracy: 97.500%\n"
     ]
    }
   ],
   "source": [
    "# Training Loop\n",
    "## Note: Rerunning this cell uses the same model variables\n",
    "\n",
    "# keep results for plotting\n",
    "train_loss_results = []\n",
    "train_accuracy_results = []\n",
    "\n",
    "num_epochs = 201\n",
    "\n",
    "for epoch in range(num_epochs):\n",
    "  epoch_loss_avg = tfe.metrics.Mean()\n",
    "  epoch_accuracy = tfe.metrics.Accuracy()\n",
    "\n",
    "  # Training loop - using batches of 32\n",
    "  for x, y in train_dataset:\n",
    "    # Optimize the model\n",
    "    loss_value, grads = grad(model, x, y)\n",
    "    optimizer.apply_gradients(zip(grads, model.variables),\n",
    "                              global_step)\n",
    "\n",
    "    # Track progress\n",
    "    epoch_loss_avg(loss_value)  # add current batch loss\n",
    "    # compare predicted label to actual label\n",
    "    epoch_accuracy(tf.argmax(model(x), axis=1, output_type=tf.int32), y)\n",
    "\n",
    "  # end epoch\n",
    "  train_loss_results.append(epoch_loss_avg.result())\n",
    "  train_accuracy_results.append(epoch_accuracy.result())\n",
    "  \n",
    "  if epoch % 50 == 0:\n",
    "    print(\"Epoch {:03d}: Loss: {:.3f}, Accuracy: {:.3%}\".format(epoch,\n",
    "                                                                epoch_loss_avg.result(),\n",
    "                                                                epoch_accuracy.result()))\n"
   ]
  },
  {
   "cell_type": "code",
   "execution_count": 25,
   "metadata": {},
   "outputs": [
    {
     "data": {
      "image/png": "[encoded data removed]",
      "text/plain": [
       "<Figure size 864x576 with 2 Axes>"
      ]
     },
     "metadata": {},
     "output_type": "display_data"
    }
   ],
   "source": [
    "fig, axes = plt.subplots(2, sharex=True, figsize=(12, 8))\n",
    "fig.suptitle('Training Metrics')\n",
    "\n",
    "axes[0].set_ylabel(\"Loss\", fontsize=14)\n",
    "axes[0].plot(train_loss_results)\n",
    "\n",
    "axes[1].set_ylabel(\"Accuracy\", fontsize=14)\n",
    "axes[1].set_xlabel(\"Epoch\", fontsize=14)\n",
    "axes[1].plot(train_accuracy_results);\n"
   ]
  },
  {
   "cell_type": "code",
   "execution_count": 26,
   "metadata": {},
   "outputs": [
    {
     "name": "stdout",
     "output_type": "stream",
     "text": [
      "Downloading data from http://download.tensorflow.org/data/iris_test.csv\n",
      "8192/573 [============================================================================================================================================================================================================================================================================================================================================================================================================================================] - 0s 0us/step\n"
     ]
    }
   ],
   "source": [
    "# Setup the test dataset\n",
    "test_url = \"http://download.tensorflow.org/data/iris_test.csv\"\n",
    "\n",
    "test_fp = tf.keras.utils.get_file(fname=os.path.basename(test_url),\n",
    "                                  origin=test_url)\n"
   ]
  },
  {
   "cell_type": "code",
   "execution_count": 27,
   "metadata": {},
   "outputs": [],
   "source": [
    "test_dataset = tf.contrib.data.make_csv_dataset(\n",
    "    train_dataset_fp,\n",
    "    batch_size, \n",
    "    column_names=column_names,\n",
    "    label_name='species',\n",
    "    num_epochs=1,\n",
    "    shuffle=False)\n",
    "\n",
    "test_dataset = test_dataset.map(pack_features_vector)\n"
   ]
  },
  {
   "cell_type": "code",
   "execution_count": 28,
   "metadata": {},
   "outputs": [
    {
     "name": "stdout",
     "output_type": "stream",
     "text": [
      "Test set accuracy: 96.667%\n"
     ]
    }
   ],
   "source": [
    "test_accuracy = tfe.metrics.Accuracy()\n",
    "\n",
    "for (x, y) in test_dataset:\n",
    "  logits = model(x)\n",
    "  prediction = tf.argmax(logits, axis=1, output_type=tf.int32)\n",
    "  test_accuracy(prediction, y)\n",
    "\n",
    "print(\"Test set accuracy: {:.3%}\".format(test_accuracy.result()))\n"
   ]
  },
  {
   "cell_type": "code",
   "execution_count": 29,
   "metadata": {},
   "outputs": [
    {
     "data": {
      "text/plain": [
       "<tf.Tensor: id=112986, shape=(24, 2), dtype=int32, numpy=\n",
       "array([[0, 0],\n",
       "       [2, 2],\n",
       "       [1, 2],\n",
       "       [0, 0],\n",
       "       [0, 0],\n",
       "       [1, 1],\n",
       "       [0, 0],\n",
       "       [1, 1],\n",
       "       [0, 0],\n",
       "       [0, 0],\n",
       "       [0, 0],\n",
       "       [0, 0],\n",
       "       [1, 1],\n",
       "       [0, 0],\n",
       "       [2, 2],\n",
       "       [1, 1],\n",
       "       [0, 0],\n",
       "       [2, 2],\n",
       "       [0, 0],\n",
       "       [1, 1],\n",
       "       [1, 1],\n",
       "       [0, 0],\n",
       "       [0, 0],\n",
       "       [1, 1]])>"
      ]
     },
     "execution_count": 29,
     "metadata": {},
     "output_type": "execute_result"
    }
   ],
   "source": [
    "tf.stack([y,prediction],axis=1)"
   ]
  },
  {
   "cell_type": "code",
   "execution_count": 30,
   "metadata": {},
   "outputs": [
    {
     "name": "stdout",
     "output_type": "stream",
     "text": [
      "Example 0 prediction: Iris setosa (96.7%)\n",
      "Example 1 prediction: Iris versicolor (84.4%)\n",
      "Example 2 prediction: Iris virginica (85.3%)\n"
     ]
    }
   ],
   "source": [
    "# Use trained data to test unlabeled data.\n",
    "predict_dataset = tf.convert_to_tensor([\n",
    "    [5.1, 3.3, 1.7, 0.5,],\n",
    "    [5.9, 3.0, 4.2, 1.5,],\n",
    "    [6.9, 3.1, 5.4, 2.1]\n",
    "])\n",
    "\n",
    "predictions = model(predict_dataset)\n",
    "\n",
    "for i, logits in enumerate(predictions):\n",
    "  class_idx = tf.argmax(logits).numpy()\n",
    "  p = tf.nn.softmax(logits)[class_idx]\n",
    "  name = class_names[class_idx]\n",
    "  print(\"Example {} prediction: {} ({:4.1f}%)\".format(i, name, 100*p))\n"
   ]
  },
  {
   "cell_type": "code",
   "execution_count": null,
   "metadata": {},
   "outputs": [],
   "source": []
  }
 ],
 "metadata": {
  "kernelspec": {
   "display_name": "Python 3",
   "language": "python",
   "name": "python3"
  },
  "language_info": {
   "codemirror_mode": {
    "name": "ipython",
    "version": 3
   },
   "file_extension": ".py",
   "mimetype": "text/x-python",
   "name": "python",
   "nbconvert_exporter": "python",
   "pygments_lexer": "ipython3",
   "version": "3.6.1"
  }
 },
 "nbformat": 4,
 "nbformat_minor": 2
}
