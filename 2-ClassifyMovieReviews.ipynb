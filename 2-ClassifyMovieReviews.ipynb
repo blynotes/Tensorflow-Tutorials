{
 "cells": [
  {
   "cell_type": "code",
   "execution_count": 1,
   "metadata": {},
   "outputs": [],
   "source": [
    "# From https://www.tensorflow.org/tutorials/keras/basic_text_classification"
   ]
  },
  {
   "cell_type": "code",
   "execution_count": 2,
   "metadata": {},
   "outputs": [
    {
     "name": "stdout",
     "output_type": "stream",
     "text": [
      "1.9.0\n"
     ]
    }
   ],
   "source": [
    "import tensorflow as tf\n",
    "from tensorflow import keras\n",
    "\n",
    "import numpy as np\n",
    "\n",
    "print(tf.__version__)"
   ]
  },
  {
   "cell_type": "code",
   "execution_count": 3,
   "metadata": {},
   "outputs": [
    {
     "name": "stdout",
     "output_type": "stream",
     "text": [
      "Downloading data from https://s3.amazonaws.com/text-datasets/imdb.npz\n",
      "17465344/17464789 [==============================] - 9s 1us/step\n"
     ]
    }
   ],
   "source": [
    "# Download IMDB database\n",
    "imdb = keras.datasets.imdb\n",
    "# num_words=10000 only keeps top 10,000 most frequently occurring words.  Discards rare words to keep data size manageable.\n",
    "(train_data, train_labels), (test_data, test_labels) = imdb.load_data(num_words=10000)"
   ]
  },
  {
   "cell_type": "code",
   "execution_count": 4,
   "metadata": {},
   "outputs": [
    {
     "name": "stdout",
     "output_type": "stream",
     "text": [
      "Training entries: 25000, labels: 25000\n"
     ]
    }
   ],
   "source": [
    "print(\"Training entries: {}, labels: {}\".format(len(train_data), len(train_labels)))"
   ]
  },
  {
   "cell_type": "code",
   "execution_count": 5,
   "metadata": {},
   "outputs": [
    {
     "name": "stdout",
     "output_type": "stream",
     "text": [
      "[1, 14, 22, 16, 43, 530, 973, 1622, 1385, 65, 458, 4468, 66, 3941, 4, 173, 36, 256, 5, 25, 100, 43, 838, 112, 50, 670, 2, 9, 35, 480, 284, 5, 150, 4, 172, 112, 167, 2, 336, 385, 39, 4, 172, 4536, 1111, 17, 546, 38, 13, 447, 4, 192, 50, 16, 6, 147, 2025, 19, 14, 22, 4, 1920, 4613, 469, 4, 22, 71, 87, 12, 16, 43, 530, 38, 76, 15, 13, 1247, 4, 22, 17, 515, 17, 12, 16, 626, 18, 2, 5, 62, 386, 12, 8, 316, 8, 106, 5, 4, 2223, 5244, 16, 480, 66, 3785, 33, 4, 130, 12, 16, 38, 619, 5, 25, 124, 51, 36, 135, 48, 25, 1415, 33, 6, 22, 12, 215, 28, 77, 52, 5, 14, 407, 16, 82, 2, 8, 4, 107, 117, 5952, 15, 256, 4, 2, 7, 3766, 5, 723, 36, 71, 43, 530, 476, 26, 400, 317, 46, 7, 4, 2, 1029, 13, 104, 88, 4, 381, 15, 297, 98, 32, 2071, 56, 26, 141, 6, 194, 7486, 18, 4, 226, 22, 21, 134, 476, 26, 480, 5, 144, 30, 5535, 18, 51, 36, 28, 224, 92, 25, 104, 4, 226, 65, 16, 38, 1334, 88, 12, 16, 283, 5, 16, 4472, 113, 103, 32, 15, 16, 5345, 19, 178, 32]\n"
     ]
    }
   ],
   "source": [
    "# Text has been converted into integers.\n",
    "print(train_data[0])"
   ]
  },
  {
   "cell_type": "code",
   "execution_count": 6,
   "metadata": {},
   "outputs": [
    {
     "name": "stdout",
     "output_type": "stream",
     "text": [
      "Length of train_data[0] = 218\n",
      "Length of train_data[1] = 189\n"
     ]
    }
   ],
   "source": [
    "# Reviews have different lengths.  Need to fix this since inputs to NN must be same length.\n",
    "# Example:\n",
    "print(\"Length of train_data[0] = {}\".format(len(train_data[0])))\n",
    "print(\"Length of train_data[1] = {}\".format(len(train_data[1])))"
   ]
  },
  {
   "cell_type": "code",
   "execution_count": 7,
   "metadata": {},
   "outputs": [
    {
     "name": "stdout",
     "output_type": "stream",
     "text": [
      "Downloading data from https://s3.amazonaws.com/text-datasets/imdb_word_index.json\n",
      "1646592/1641221 [==============================] - 1s 1us/step\n"
     ]
    }
   ],
   "source": [
    "# Convert integers back into words\n",
    "# Dictionary maps words to an integer index\n",
    "word_index = imdb.get_word_index()\n",
    "\n",
    "# First indices are reserved\n",
    "word_index = {k:(v+3) for k,v in word_index.items()}\n",
    "word_index[\"<PAD>\"] = 0\n",
    "word_index[\"<START>\"] = 1\n",
    "word_index[\"<UNK>\"] = 2\n",
    "word_index[\"<UNUSED>\"] = 3\n",
    "\n",
    "reverse_word_index = dict([(value, key) for (key, value) in word_index.items()])\n",
    "\n",
    "def decode_review(text):\n",
    "    # Default value is '?' for the dictionary get.\n",
    "    return ' '.join([reverse_word_index.get(i, '?') for i in text])"
   ]
  },
  {
   "cell_type": "code",
   "execution_count": 8,
   "metadata": {},
   "outputs": [
    {
     "data": {
      "text/plain": [
       "\"<START> this film was just brilliant casting location scenery story direction everyone's really suited the part they played and you could just imagine being there robert <UNK> is an amazing actor and now the same being director <UNK> father came from the same scottish island as myself so i loved the fact there was a real connection with this film the witty remarks throughout the film were great it was just brilliant so much that i bought the film as soon as it was released for <UNK> and would recommend it to everyone to watch and the fly fishing was amazing really cried at the end it was so sad and you know what they say if you cry at a film it must have been good and this definitely was also <UNK> to the two little boy's that played the <UNK> of norman and paul they were just brilliant children are often left out of the <UNK> list i think because the stars that play them all grown up are such a big profile for the whole film but these children are amazing and should be praised for what they have done don't you think the whole story was so lovely because it was true and was someone's life after all that was shared with us all\""
      ]
     },
     "execution_count": 8,
     "metadata": {},
     "output_type": "execute_result"
    }
   ],
   "source": [
    "# Test decode_review\n",
    "decode_review(train_data[0])"
   ]
  },
  {
   "cell_type": "code",
   "execution_count": null,
   "metadata": {},
   "outputs": [],
   "source": []
  },
  {
   "cell_type": "markdown",
   "metadata": {},
   "source": [
    "# Prepare the data"
   ]
  },
  {
   "cell_type": "code",
   "execution_count": 9,
   "metadata": {},
   "outputs": [],
   "source": [
    "# Reviews (arrays of integers) must be converted to tensors.  This can be done in several ways:\n",
    "# 1) one-hot-encode the arrays to convert them into vectors of 0s and 1s.  This requires num_words * num_reviews size Matrix and is memory intensive.\n",
    "# 2) Pad the arrays to all have the same length. Create tensor of shape num_examples * max_length.\n",
    "train_data = keras.preprocessing.sequence.pad_sequences(train_data, \n",
    "                                                        value=word_index[\"<PAD>\"], \n",
    "                                                        padding='post', \n",
    "                                                        maxlen=256)\n",
    "\n",
    "test_data = keras.preprocessing.sequence.pad_sequences(test_data, \n",
    "                                                        value=word_index[\"<PAD>\"], \n",
    "                                                        padding='post', \n",
    "                                                        maxlen=256)"
   ]
  },
  {
   "cell_type": "code",
   "execution_count": 10,
   "metadata": {},
   "outputs": [
    {
     "name": "stdout",
     "output_type": "stream",
     "text": [
      "Length of train_data[0] = 256\n",
      "Length of train_data[1] = 256\n"
     ]
    }
   ],
   "source": [
    "# Reviews should have same length now\n",
    "# Example:\n",
    "print(\"Length of train_data[0] = {}\".format(len(train_data[0])))\n",
    "print(\"Length of train_data[1] = {}\".format(len(train_data[1])))"
   ]
  },
  {
   "cell_type": "code",
   "execution_count": 11,
   "metadata": {},
   "outputs": [
    {
     "name": "stdout",
     "output_type": "stream",
     "text": [
      "[   1   14   22   16   43  530  973 1622 1385   65  458 4468   66 3941\n",
      "    4  173   36  256    5   25  100   43  838  112   50  670    2    9\n",
      "   35  480  284    5  150    4  172  112  167    2  336  385   39    4\n",
      "  172 4536 1111   17  546   38   13  447    4  192   50   16    6  147\n",
      " 2025   19   14   22    4 1920 4613  469    4   22   71   87   12   16\n",
      "   43  530   38   76   15   13 1247    4   22   17  515   17   12   16\n",
      "  626   18    2    5   62  386   12    8  316    8  106    5    4 2223\n",
      " 5244   16  480   66 3785   33    4  130   12   16   38  619    5   25\n",
      "  124   51   36  135   48   25 1415   33    6   22   12  215   28   77\n",
      "   52    5   14  407   16   82    2    8    4  107  117 5952   15  256\n",
      "    4    2    7 3766    5  723   36   71   43  530  476   26  400  317\n",
      "   46    7    4    2 1029   13  104   88    4  381   15  297   98   32\n",
      " 2071   56   26  141    6  194 7486   18    4  226   22   21  134  476\n",
      "   26  480    5  144   30 5535   18   51   36   28  224   92   25  104\n",
      "    4  226   65   16   38 1334   88   12   16  283    5   16 4472  113\n",
      "  103   32   15   16 5345   19  178   32    0    0    0    0    0    0\n",
      "    0    0    0    0    0    0    0    0    0    0    0    0    0    0\n",
      "    0    0    0    0    0    0    0    0    0    0    0    0    0    0\n",
      "    0    0    0    0]\n"
     ]
    }
   ],
   "source": [
    "# Inspect the first review (padded)\n",
    "print(train_data[0])"
   ]
  },
  {
   "cell_type": "code",
   "execution_count": null,
   "metadata": {},
   "outputs": [],
   "source": []
  },
  {
   "cell_type": "markdown",
   "metadata": {},
   "source": [
    "# Build the Model"
   ]
  },
  {
   "cell_type": "code",
   "execution_count": 12,
   "metadata": {},
   "outputs": [
    {
     "name": "stdout",
     "output_type": "stream",
     "text": [
      "_________________________________________________________________\n",
      "Layer (type)                 Output Shape              Param #   \n",
      "=================================================================\n",
      "embedding (Embedding)        (None, None, 16)          160000    \n",
      "_________________________________________________________________\n",
      "global_average_pooling1d (Gl (None, 16)                0         \n",
      "_________________________________________________________________\n",
      "dense (Dense)                (None, 16)                272       \n",
      "_________________________________________________________________\n",
      "dense_1 (Dense)              (None, 1)                 17        \n",
      "=================================================================\n",
      "Total params: 160,289\n",
      "Trainable params: 160,289\n",
      "Non-trainable params: 0\n",
      "_________________________________________________________________\n"
     ]
    }
   ],
   "source": [
    "# input shape is vocab count used for movie reviews.\n",
    "vocab_size = 10000\n",
    "\n",
    "model = keras.Sequential()\n",
    "# Embedding layer takes integer-encoded vocab \n",
    "#  and looks up embedding vector for each word-index.\n",
    "# Vectors add dimension to output array.\n",
    "# Resulting dimensions are (batch, sequence, embedding).\n",
    "model.add(keras.layers.Embedding(vocab_size, 16))\n",
    "# GlobalAveragePooling1D returns fixed-length output vector\n",
    "#  for each example by averaging over the sequence dimension.\n",
    "# This allows model to handle input of variable length in simplest way.\n",
    "model.add(keras.layers.GlobalAveragePooling1D())\n",
    "# Fully-connected layer with 16 hidden units.\n",
    "# The number of outputs (units, nodes, or neurons) is the dimension\n",
    "# of the representational space for the layer.  In other words, the\n",
    "# the amount of freedom the network is allowed when learning an\n",
    "# internal representation.\n",
    "# More hidden units (higher-dimensional representation space)\n",
    "# and/or more layers allow network to learn more complex representations.\n",
    "# However, run risk of overfitting.\n",
    "model.add(keras.layers.Dense(16, activation=tf.nn.relu))\n",
    "# Last layer is densely connected with 1 output node.\n",
    "# This represents probability, or confidence level\n",
    "model.add(keras.layers.Dense(1, activation=tf.nn.sigmoid))\n",
    "\n",
    "model.summary()"
   ]
  },
  {
   "cell_type": "code",
   "execution_count": null,
   "metadata": {},
   "outputs": [],
   "source": []
  },
  {
   "cell_type": "markdown",
   "metadata": {},
   "source": [
    "# Loss function and Optimizer"
   ]
  },
  {
   "cell_type": "code",
   "execution_count": 13,
   "metadata": {},
   "outputs": [],
   "source": [
    "# binary_crossentropy is a good loss function since we are dealing with\n",
    "# a single output probability.  It measures the \"distance\" between\n",
    "# probability distributions, or in our case, between the ground-truth\n",
    "# distribution and the predictions.\n",
    "\n",
    "model.compile(optimizer=tf.train.AdamOptimizer(),\n",
    "             loss='binary_crossentropy',\n",
    "             metrics=['accuracy'])"
   ]
  },
  {
   "cell_type": "code",
   "execution_count": null,
   "metadata": {},
   "outputs": [],
   "source": []
  },
  {
   "cell_type": "markdown",
   "metadata": {},
   "source": [
    "# Create Validation Set"
   ]
  },
  {
   "cell_type": "code",
   "execution_count": 14,
   "metadata": {},
   "outputs": [],
   "source": [
    "# We want to develop and tune our model using only the training data,\n",
    "# and then use test data just once to evaluate our accuracy.\n",
    "\n",
    "# Set aside 10,000 examples for validation.\n",
    "x_val = train_data[:10000]\n",
    "partial_x_train = train_data[10000:]\n",
    "\n",
    "y_val = train_labels[:10000]\n",
    "partial_y_train = train_labels[10000:]"
   ]
  },
  {
   "cell_type": "code",
   "execution_count": null,
   "metadata": {},
   "outputs": [],
   "source": []
  },
  {
   "cell_type": "markdown",
   "metadata": {},
   "source": [
    "# Train the Model"
   ]
  },
  {
   "cell_type": "code",
   "execution_count": 15,
   "metadata": {
    "scrolled": true
   },
   "outputs": [
    {
     "name": "stdout",
     "output_type": "stream",
     "text": [
      "Train on 15000 samples, validate on 10000 samples\n",
      "Epoch 1/40\n",
      "15000/15000 [==============================] - 2s 132us/step - loss: 0.6961 - acc: 0.5012 - val_loss: 0.6925 - val_acc: 0.5007\n",
      "Epoch 2/40\n",
      "15000/15000 [==============================] - 2s 109us/step - loss: 0.6901 - acc: 0.5749 - val_loss: 0.6889 - val_acc: 0.6024\n",
      "Epoch 3/40\n",
      "15000/15000 [==============================] - 2s 102us/step - loss: 0.6867 - acc: 0.6001 - val_loss: 0.6860 - val_acc: 0.5775\n",
      "Epoch 4/40\n",
      "15000/15000 [==============================] - 1s 91us/step - loss: 0.6829 - acc: 0.6461 - val_loss: 0.6830 - val_acc: 0.5436\n",
      "Epoch 5/40\n",
      "15000/15000 [==============================] - 1s 87us/step - loss: 0.6781 - acc: 0.6615 - val_loss: 0.6769 - val_acc: 0.6873\n",
      "Epoch 6/40\n",
      "15000/15000 [==============================] - 1s 94us/step - loss: 0.6717 - acc: 0.7110 - val_loss: 0.6701 - val_acc: 0.7076\n",
      "Epoch 7/40\n",
      "15000/15000 [==============================] - 1s 87us/step - loss: 0.6629 - acc: 0.7223 - val_loss: 0.6612 - val_acc: 0.7109\n",
      "Epoch 8/40\n",
      "15000/15000 [==============================] - 1s 88us/step - loss: 0.6511 - acc: 0.7361 - val_loss: 0.6492 - val_acc: 0.7204\n",
      "Epoch 9/40\n",
      "15000/15000 [==============================] - 1s 88us/step - loss: 0.6358 - acc: 0.7466 - val_loss: 0.6326 - val_acc: 0.7377\n",
      "Epoch 10/40\n",
      "15000/15000 [==============================] - 1s 91us/step - loss: 0.6157 - acc: 0.7689 - val_loss: 0.6125 - val_acc: 0.7520\n",
      "Epoch 11/40\n",
      "15000/15000 [==============================] - 1s 94us/step - loss: 0.5918 - acc: 0.7691 - val_loss: 0.5921 - val_acc: 0.7554\n",
      "Epoch 12/40\n",
      "15000/15000 [==============================] - 1s 98us/step - loss: 0.5649 - acc: 0.7877 - val_loss: 0.5630 - val_acc: 0.7787\n",
      "Epoch 13/40\n",
      "15000/15000 [==============================] - 1s 91us/step - loss: 0.5342 - acc: 0.8076 - val_loss: 0.5364 - val_acc: 0.7945\n",
      "Epoch 14/40\n",
      "15000/15000 [==============================] - 1s 89us/step - loss: 0.5039 - acc: 0.8219 - val_loss: 0.5094 - val_acc: 0.8063\n",
      "Epoch 15/40\n",
      "15000/15000 [==============================] - 1s 96us/step - loss: 0.4738 - acc: 0.8324 - val_loss: 0.4824 - val_acc: 0.8105\n",
      "Epoch 16/40\n",
      "15000/15000 [==============================] - 1s 97us/step - loss: 0.4454 - acc: 0.8446 - val_loss: 0.4571 - val_acc: 0.8283\n",
      "Epoch 17/40\n",
      "15000/15000 [==============================] - 2s 101us/step - loss: 0.4175 - acc: 0.8590 - val_loss: 0.4344 - val_acc: 0.8376\n",
      "Epoch 18/40\n",
      "15000/15000 [==============================] - 2s 101us/step - loss: 0.3929 - acc: 0.8679 - val_loss: 0.4139 - val_acc: 0.8443\n",
      "Epoch 19/40\n",
      "15000/15000 [==============================] - 1s 90us/step - loss: 0.3710 - acc: 0.8741 - val_loss: 0.3961 - val_acc: 0.8497\n",
      "Epoch 20/40\n",
      "15000/15000 [==============================] - 1s 90us/step - loss: 0.3512 - acc: 0.8806 - val_loss: 0.3807 - val_acc: 0.8557\n",
      "Epoch 21/40\n",
      "15000/15000 [==============================] - 1s 91us/step - loss: 0.3339 - acc: 0.8853 - val_loss: 0.3676 - val_acc: 0.8595\n",
      "Epoch 22/40\n",
      "15000/15000 [==============================] - 1s 88us/step - loss: 0.3185 - acc: 0.8909 - val_loss: 0.3563 - val_acc: 0.8639\n",
      "Epoch 23/40\n",
      "15000/15000 [==============================] - 1s 94us/step - loss: 0.3051 - acc: 0.8949 - val_loss: 0.3472 - val_acc: 0.8661\n",
      "Epoch 24/40\n",
      "15000/15000 [==============================] - 1s 92us/step - loss: 0.2925 - acc: 0.8987 - val_loss: 0.3385 - val_acc: 0.8689\n",
      "Epoch 25/40\n",
      "15000/15000 [==============================] - 1s 96us/step - loss: 0.2814 - acc: 0.9022 - val_loss: 0.3312 - val_acc: 0.8712\n",
      "Epoch 26/40\n",
      "15000/15000 [==============================] - 2s 111us/step - loss: 0.2711 - acc: 0.9055 - val_loss: 0.3256 - val_acc: 0.8728\n",
      "Epoch 27/40\n",
      "15000/15000 [==============================] - 1s 92us/step - loss: 0.2623 - acc: 0.9071 - val_loss: 0.3198 - val_acc: 0.8741\n",
      "Epoch 28/40\n",
      "15000/15000 [==============================] - 1s 95us/step - loss: 0.2531 - acc: 0.9118 - val_loss: 0.3147 - val_acc: 0.8759\n",
      "Epoch 29/40\n",
      "15000/15000 [==============================] - 1s 89us/step - loss: 0.2453 - acc: 0.9130 - val_loss: 0.3111 - val_acc: 0.8769\n",
      "Epoch 30/40\n",
      "15000/15000 [==============================] - 1s 89us/step - loss: 0.2388 - acc: 0.9140 - val_loss: 0.3069 - val_acc: 0.8789\n",
      "Epoch 31/40\n",
      "15000/15000 [==============================] - 1s 91us/step - loss: 0.2307 - acc: 0.9183 - val_loss: 0.3040 - val_acc: 0.8786\n",
      "Epoch 32/40\n",
      "15000/15000 [==============================] - 2s 102us/step - loss: 0.2247 - acc: 0.9215 - val_loss: 0.3011 - val_acc: 0.8816\n",
      "Epoch 33/40\n",
      "15000/15000 [==============================] - 2s 105us/step - loss: 0.2176 - acc: 0.9247 - val_loss: 0.2986 - val_acc: 0.8817\n",
      "Epoch 34/40\n",
      "15000/15000 [==============================] - 2s 105us/step - loss: 0.2118 - acc: 0.9261 - val_loss: 0.2970 - val_acc: 0.8825\n",
      "Epoch 35/40\n",
      "15000/15000 [==============================] - 1s 95us/step - loss: 0.2067 - acc: 0.9277 - val_loss: 0.2946 - val_acc: 0.8833\n",
      "Epoch 36/40\n",
      "15000/15000 [==============================] - 1s 90us/step - loss: 0.2006 - acc: 0.9295 - val_loss: 0.2930 - val_acc: 0.8833\n",
      "Epoch 37/40\n",
      "15000/15000 [==============================] - 1s 88us/step - loss: 0.1955 - acc: 0.9324 - val_loss: 0.2914 - val_acc: 0.8832\n",
      "Epoch 38/40\n",
      "15000/15000 [==============================] - 1s 88us/step - loss: 0.1906 - acc: 0.9347 - val_loss: 0.2906 - val_acc: 0.8832\n",
      "Epoch 39/40\n",
      "15000/15000 [==============================] - 2s 110us/step - loss: 0.1854 - acc: 0.9363 - val_loss: 0.2891 - val_acc: 0.8842\n",
      "Epoch 40/40\n",
      "15000/15000 [==============================] - 1s 94us/step - loss: 0.1808 - acc: 0.9379 - val_loss: 0.2883 - val_acc: 0.8840\n"
     ]
    }
   ],
   "source": [
    "# Train model for 40 eopchs in mini-batches of 512 samples.\n",
    "# While training, monitor the model's loss and accuracy on the 10,000 samples from validation set.\n",
    "\n",
    "# Model.fit returns a Histroy object containing dictionary with everything that happened during training.\n",
    "history = model.fit(partial_x_train,\n",
    "                   partial_y_train,\n",
    "                   epochs=40,\n",
    "                   batch_size=512,\n",
    "                   validation_data=(x_val, y_val),\n",
    "                    verbose=1)"
   ]
  },
  {
   "cell_type": "code",
   "execution_count": null,
   "metadata": {},
   "outputs": [],
   "source": []
  },
  {
   "cell_type": "markdown",
   "metadata": {},
   "source": [
    "# Evaluate the Model"
   ]
  },
  {
   "cell_type": "code",
   "execution_count": 16,
   "metadata": {},
   "outputs": [
    {
     "name": "stdout",
     "output_type": "stream",
     "text": [
      "25000/25000 [==============================] - 1s 22us/step\n",
      "[0.3038825902271271, 0.87532]\n"
     ]
    }
   ],
   "source": [
    "results = model.evaluate(test_data, test_labels)\n",
    "\n",
    "print(results)"
   ]
  },
  {
   "cell_type": "code",
   "execution_count": null,
   "metadata": {},
   "outputs": [],
   "source": []
  },
  {
   "cell_type": "markdown",
   "metadata": {},
   "source": [
    "# Create graph of accuracy and loss over time"
   ]
  },
  {
   "cell_type": "code",
   "execution_count": 17,
   "metadata": {},
   "outputs": [
    {
     "data": {
      "text/plain": [
       "dict_keys(['val_loss', 'val_acc', 'loss', 'acc'])"
      ]
     },
     "execution_count": 17,
     "metadata": {},
     "output_type": "execute_result"
    }
   ],
   "source": [
    "# Model.fit returns a Histroy object containing dictionary with everything that happened during training.\n",
    "history_dict = history.history\n",
    "history_dict.keys()"
   ]
  },
  {
   "cell_type": "code",
   "execution_count": 18,
   "metadata": {},
   "outputs": [
    {
     "data": {
      "text/plain": [
       "<Figure size 640x480 with 1 Axes>"
      ]
     },
     "metadata": {},
     "output_type": "display_data"
    }
   ],
   "source": [
    "import matplotlib.pyplot as plt\n",
    "\n",
    "acc = history.history['acc']\n",
    "val_acc = history.history['val_acc']\n",
    "loss = history.history['loss']\n",
    "val_loss = history.history['val_loss']\n",
    "\n",
    "epochs = range(1, len(acc) + 1)\n",
    "\n",
    "# 'bo' is for 'blue dot'\n",
    "plt.plot(epochs, loss, 'bo', label='Training loss')\n",
    "# 'b' is for 'solid blue line'\n",
    "plt.plot(epochs, val_loss, 'b', label='Validation loss')\n",
    "plt.title(\"Training and validation loss\")\n",
    "plt.xlabel(\"Epochs\")\n",
    "plt.ylabel(\"Loss\")\n",
    "plt.legend()\n",
    "\n",
    "plt.show()"
   ]
  },
  {
   "cell_type": "code",
   "execution_count": 19,
   "metadata": {
    "scrolled": true
   },
   "outputs": [
    {
     "data": {
      "image/png": "[encoded data removed]",
      "text/plain": [
       "<Figure size 432x288 with 1 Axes>"
      ]
     },
     "metadata": {},
     "output_type": "display_data"
    }
   ],
   "source": [
    "plt.clf() # Clear figure\n",
    "acc_values = history_dict['acc']\n",
    "val_acc_values = history_dict['val_acc']\n",
    "\n",
    "plt.plot(epochs, acc, 'bo', label=\"Training acc\")\n",
    "plt.plot(epochs, val_acc, 'b', label=\"Validation acc\")\n",
    "plt.title(\"Training and validation accuracy\")\n",
    "plt.xlabel(\"Epochs\")\n",
    "plt.ylabel(\"Loss\")\n",
    "plt.legend()\n",
    "\n",
    "plt.show()"
   ]
  },
  {
   "cell_type": "code",
   "execution_count": null,
   "metadata": {},
   "outputs": [],
   "source": [
    "# In above figure, dots represent training loss and accuracy.\n",
    "# Solid lines are validation loss and accuracy.\n",
    "\n",
    "# Training loss decreases and training accuracy increases with each epoch\n",
    "# Validation loss and accuracy seem to peak after 20 epochs.\n",
    "# This is sign of overfitting. Model performs better on training data\n",
    "# than on data is has never seen before.\n",
    "# After this point model over-optimizes and learns representations\n",
    "# specific to training data that do not generalize to test data.\n",
    "\n",
    "# For this particular case, we could have stopped training after 20 epochs or so."
   ]
  }
 ],
 "metadata": {
  "kernelspec": {
   "display_name": "Python 3",
   "language": "python",
   "name": "python3"
  },
  "language_info": {
   "codemirror_mode": {
    "name": "ipython",
    "version": 3
   },
   "file_extension": ".py",
   "mimetype": "text/x-python",
   "name": "python",
   "nbconvert_exporter": "python",
   "pygments_lexer": "ipython3",
   "version": "3.6.2"
  }
 },
 "nbformat": 4,
 "nbformat_minor": 2
}
